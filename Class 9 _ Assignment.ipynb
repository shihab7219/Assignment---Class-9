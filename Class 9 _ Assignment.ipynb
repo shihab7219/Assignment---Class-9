{
 "cells": [
  {
   "cell_type": "code",
   "execution_count": 153,
   "id": "ee8b9c20",
   "metadata": {},
   "outputs": [],
   "source": [
    "import pandas as pd\n"
   ]
  },
  {
   "cell_type": "markdown",
   "id": "79818718",
   "metadata": {},
   "source": [
    "# Import data set"
   ]
  },
  {
   "cell_type": "code",
   "execution_count": 154,
   "id": "4c731189",
   "metadata": {},
   "outputs": [],
   "source": [
    "\n",
    "data = pd.read_csv(\"weight-height.csv\")\n"
   ]
  },
  {
   "cell_type": "code",
   "execution_count": 155,
   "id": "e3ef2d18",
   "metadata": {},
   "outputs": [
    {
     "data": {
      "text/html": [
       "<div>\n",
       "<style scoped>\n",
       "    .dataframe tbody tr th:only-of-type {\n",
       "        vertical-align: middle;\n",
       "    }\n",
       "\n",
       "    .dataframe tbody tr th {\n",
       "        vertical-align: top;\n",
       "    }\n",
       "\n",
       "    .dataframe thead th {\n",
       "        text-align: right;\n",
       "    }\n",
       "</style>\n",
       "<table border=\"1\" class=\"dataframe\">\n",
       "  <thead>\n",
       "    <tr style=\"text-align: right;\">\n",
       "      <th></th>\n",
       "      <th>Gender</th>\n",
       "      <th>Height</th>\n",
       "      <th>Weight</th>\n",
       "    </tr>\n",
       "  </thead>\n",
       "  <tbody>\n",
       "    <tr>\n",
       "      <th>0</th>\n",
       "      <td>Male</td>\n",
       "      <td>73.847017</td>\n",
       "      <td>241.893563</td>\n",
       "    </tr>\n",
       "    <tr>\n",
       "      <th>1</th>\n",
       "      <td>Male</td>\n",
       "      <td>68.781904</td>\n",
       "      <td>162.310473</td>\n",
       "    </tr>\n",
       "    <tr>\n",
       "      <th>2</th>\n",
       "      <td>Male</td>\n",
       "      <td>74.110105</td>\n",
       "      <td>212.740856</td>\n",
       "    </tr>\n",
       "    <tr>\n",
       "      <th>3</th>\n",
       "      <td>Male</td>\n",
       "      <td>71.730978</td>\n",
       "      <td>220.042470</td>\n",
       "    </tr>\n",
       "    <tr>\n",
       "      <th>4</th>\n",
       "      <td>Male</td>\n",
       "      <td>69.881796</td>\n",
       "      <td>206.349801</td>\n",
       "    </tr>\n",
       "  </tbody>\n",
       "</table>\n",
       "</div>"
      ],
      "text/plain": [
       "  Gender     Height      Weight\n",
       "0   Male  73.847017  241.893563\n",
       "1   Male  68.781904  162.310473\n",
       "2   Male  74.110105  212.740856\n",
       "3   Male  71.730978  220.042470\n",
       "4   Male  69.881796  206.349801"
      ]
     },
     "execution_count": 155,
     "metadata": {},
     "output_type": "execute_result"
    }
   ],
   "source": [
    "data.head()"
   ]
  },
  {
   "cell_type": "code",
   "execution_count": 156,
   "id": "18c8fc5d",
   "metadata": {},
   "outputs": [
    {
     "name": "stdout",
     "output_type": "stream",
     "text": [
      "<class 'pandas.core.frame.DataFrame'>\n",
      "RangeIndex: 8555 entries, 0 to 8554\n",
      "Data columns (total 3 columns):\n",
      " #   Column  Non-Null Count  Dtype  \n",
      "---  ------  --------------  -----  \n",
      " 0   Gender  8555 non-null   object \n",
      " 1   Height  8555 non-null   float64\n",
      " 2   Weight  8555 non-null   float64\n",
      "dtypes: float64(2), object(1)\n",
      "memory usage: 200.6+ KB\n"
     ]
    }
   ],
   "source": [
    "\n",
    "data.info()"
   ]
  },
  {
   "cell_type": "code",
   "execution_count": 157,
   "id": "16fae4a8",
   "metadata": {},
   "outputs": [
    {
     "data": {
      "text/plain": [
       "Gender    0\n",
       "Height    0\n",
       "Weight    0\n",
       "dtype: int64"
      ]
     },
     "execution_count": 157,
     "metadata": {},
     "output_type": "execute_result"
    }
   ],
   "source": [
    "data.isnull().sum()"
   ]
  },
  {
   "cell_type": "markdown",
   "id": "17ce03d0",
   "metadata": {},
   "source": [
    "# Encoding \"Gender\" Feature "
   ]
  },
  {
   "cell_type": "code",
   "execution_count": 158,
   "id": "ed72b3e9",
   "metadata": {},
   "outputs": [],
   "source": [
    "from sklearn.preprocessing import LabelEncoder"
   ]
  },
  {
   "cell_type": "code",
   "execution_count": 159,
   "id": "9138e48d",
   "metadata": {},
   "outputs": [],
   "source": [
    "label_encoding = LabelEncoder()\n",
    "\n",
    "data[\"Gender\"] = label_encoding.fit_transform(data[\"Gender\"])"
   ]
  },
  {
   "cell_type": "code",
   "execution_count": 160,
   "id": "700e3d5d",
   "metadata": {},
   "outputs": [
    {
     "data": {
      "text/html": [
       "<div>\n",
       "<style scoped>\n",
       "    .dataframe tbody tr th:only-of-type {\n",
       "        vertical-align: middle;\n",
       "    }\n",
       "\n",
       "    .dataframe tbody tr th {\n",
       "        vertical-align: top;\n",
       "    }\n",
       "\n",
       "    .dataframe thead th {\n",
       "        text-align: right;\n",
       "    }\n",
       "</style>\n",
       "<table border=\"1\" class=\"dataframe\">\n",
       "  <thead>\n",
       "    <tr style=\"text-align: right;\">\n",
       "      <th></th>\n",
       "      <th>Gender</th>\n",
       "      <th>Height</th>\n",
       "      <th>Weight</th>\n",
       "    </tr>\n",
       "  </thead>\n",
       "  <tbody>\n",
       "    <tr>\n",
       "      <th>8550</th>\n",
       "      <td>0</td>\n",
       "      <td>60.483946</td>\n",
       "      <td>110.565497</td>\n",
       "    </tr>\n",
       "    <tr>\n",
       "      <th>8551</th>\n",
       "      <td>0</td>\n",
       "      <td>63.423372</td>\n",
       "      <td>129.921671</td>\n",
       "    </tr>\n",
       "    <tr>\n",
       "      <th>8552</th>\n",
       "      <td>0</td>\n",
       "      <td>65.584057</td>\n",
       "      <td>155.942671</td>\n",
       "    </tr>\n",
       "    <tr>\n",
       "      <th>8553</th>\n",
       "      <td>0</td>\n",
       "      <td>67.429971</td>\n",
       "      <td>151.678405</td>\n",
       "    </tr>\n",
       "    <tr>\n",
       "      <th>8554</th>\n",
       "      <td>0</td>\n",
       "      <td>60.921791</td>\n",
       "      <td>131.253738</td>\n",
       "    </tr>\n",
       "  </tbody>\n",
       "</table>\n",
       "</div>"
      ],
      "text/plain": [
       "      Gender     Height      Weight\n",
       "8550       0  60.483946  110.565497\n",
       "8551       0  63.423372  129.921671\n",
       "8552       0  65.584057  155.942671\n",
       "8553       0  67.429971  151.678405\n",
       "8554       0  60.921791  131.253738"
      ]
     },
     "execution_count": 160,
     "metadata": {},
     "output_type": "execute_result"
    }
   ],
   "source": [
    "# meal = 1 and Femeal = 0\n",
    "data.tail()"
   ]
  },
  {
   "cell_type": "markdown",
   "id": "95747e97",
   "metadata": {},
   "source": [
    "# Seperate x and y"
   ]
  },
  {
   "cell_type": "code",
   "execution_count": 161,
   "id": "3efeac2f",
   "metadata": {},
   "outputs": [],
   "source": [
    "x = data.drop(\"Weight\", axis = 1)\n",
    "y = data[\"Weight\"]"
   ]
  },
  {
   "cell_type": "code",
   "execution_count": 162,
   "id": "f98cdcfc",
   "metadata": {},
   "outputs": [],
   "source": [
    "from sklearn.model_selection import train_test_split as tts\n",
    "from sklearn.linear_model import LinearRegression"
   ]
  },
  {
   "cell_type": "markdown",
   "id": "d3c1f87d",
   "metadata": {},
   "source": [
    "# Apply Linear Regression"
   ]
  },
  {
   "cell_type": "code",
   "execution_count": 163,
   "id": "bcaf139d",
   "metadata": {},
   "outputs": [],
   "source": [
    "LR = LinearRegression()"
   ]
  },
  {
   "cell_type": "code",
   "execution_count": 164,
   "id": "2adadce9",
   "metadata": {},
   "outputs": [
    {
     "data": {
      "text/plain": [
       "LinearRegression()"
      ]
     },
     "execution_count": 164,
     "metadata": {},
     "output_type": "execute_result"
    }
   ],
   "source": [
    "xtrain , xtest , ytrain , ytest = tts(x,y, train_size = .70 , random_state = 1)\n",
    "LR.fit(xtrain,ytrain)"
   ]
  },
  {
   "cell_type": "code",
   "execution_count": 165,
   "id": "33b5a3bc",
   "metadata": {},
   "outputs": [],
   "source": [
    "Predicted_data = LR.predict(xtest)"
   ]
  },
  {
   "cell_type": "code",
   "execution_count": 166,
   "id": "8a6ff665",
   "metadata": {},
   "outputs": [
    {
     "data": {
      "text/plain": [
       "array([143.83013436, 197.53417989, 184.63515112, ..., 160.7078525 ,\n",
       "       186.82852694, 201.4226542 ])"
      ]
     },
     "execution_count": 166,
     "metadata": {},
     "output_type": "execute_result"
    }
   ],
   "source": [
    "Predicted_data"
   ]
  },
  {
   "cell_type": "code",
   "execution_count": 167,
   "id": "ea38fc98",
   "metadata": {},
   "outputs": [],
   "source": [
    "data[\"Predicted_data\"] = LR.predict(x)"
   ]
  },
  {
   "cell_type": "code",
   "execution_count": 168,
   "id": "cdd44d86",
   "metadata": {},
   "outputs": [
    {
     "data": {
      "text/html": [
       "<div>\n",
       "<style scoped>\n",
       "    .dataframe tbody tr th:only-of-type {\n",
       "        vertical-align: middle;\n",
       "    }\n",
       "\n",
       "    .dataframe tbody tr th {\n",
       "        vertical-align: top;\n",
       "    }\n",
       "\n",
       "    .dataframe thead th {\n",
       "        text-align: right;\n",
       "    }\n",
       "</style>\n",
       "<table border=\"1\" class=\"dataframe\">\n",
       "  <thead>\n",
       "    <tr style=\"text-align: right;\">\n",
       "      <th></th>\n",
       "      <th>Gender</th>\n",
       "      <th>Height</th>\n",
       "      <th>Weight</th>\n",
       "      <th>Predicted_data</th>\n",
       "    </tr>\n",
       "  </thead>\n",
       "  <tbody>\n",
       "    <tr>\n",
       "      <th>8550</th>\n",
       "      <td>0</td>\n",
       "      <td>60.483946</td>\n",
       "      <td>110.565497</td>\n",
       "      <td>116.468265</td>\n",
       "    </tr>\n",
       "    <tr>\n",
       "      <th>8551</th>\n",
       "      <td>0</td>\n",
       "      <td>63.423372</td>\n",
       "      <td>129.921671</td>\n",
       "      <td>134.013329</td>\n",
       "    </tr>\n",
       "    <tr>\n",
       "      <th>8552</th>\n",
       "      <td>0</td>\n",
       "      <td>65.584057</td>\n",
       "      <td>155.942671</td>\n",
       "      <td>146.910187</td>\n",
       "    </tr>\n",
       "    <tr>\n",
       "      <th>8553</th>\n",
       "      <td>0</td>\n",
       "      <td>67.429971</td>\n",
       "      <td>151.678405</td>\n",
       "      <td>157.928220</td>\n",
       "    </tr>\n",
       "    <tr>\n",
       "      <th>8554</th>\n",
       "      <td>0</td>\n",
       "      <td>60.921791</td>\n",
       "      <td>131.253738</td>\n",
       "      <td>119.081708</td>\n",
       "    </tr>\n",
       "  </tbody>\n",
       "</table>\n",
       "</div>"
      ],
      "text/plain": [
       "      Gender     Height      Weight  Predicted_data\n",
       "8550       0  60.483946  110.565497      116.468265\n",
       "8551       0  63.423372  129.921671      134.013329\n",
       "8552       0  65.584057  155.942671      146.910187\n",
       "8553       0  67.429971  151.678405      157.928220\n",
       "8554       0  60.921791  131.253738      119.081708"
      ]
     },
     "execution_count": 168,
     "metadata": {},
     "output_type": "execute_result"
    }
   ],
   "source": [
    "data.tail()"
   ]
  },
  {
   "cell_type": "markdown",
   "id": "1f88336b",
   "metadata": {},
   "source": [
    "# Evaluate Model"
   ]
  },
  {
   "cell_type": "code",
   "execution_count": 169,
   "id": "a0fd3f0b",
   "metadata": {},
   "outputs": [
    {
     "data": {
      "text/plain": [
       "0.9059959607091161"
      ]
     },
     "execution_count": 169,
     "metadata": {},
     "output_type": "execute_result"
    }
   ],
   "source": [
    "#Accuracy \n",
    "LR.score(xtest,ytest)"
   ]
  },
  {
   "cell_type": "code",
   "execution_count": 170,
   "id": "b4800894",
   "metadata": {},
   "outputs": [
    {
     "name": "stdout",
     "output_type": "stream",
     "text": [
      "99.67250998070027\n"
     ]
    }
   ],
   "source": [
    "# MSE\n",
    "from sklearn.metrics import mean_squared_error\n",
    "mse = mean_squared_error(ytest,Predicted_data)\n",
    "print(mse)"
   ]
  },
  {
   "cell_type": "code",
   "execution_count": 171,
   "id": "1e7f2e94",
   "metadata": {},
   "outputs": [
    {
     "name": "stdout",
     "output_type": "stream",
     "text": [
      "7.982132592729127\n"
     ]
    }
   ],
   "source": [
    "#MAE\n",
    "from sklearn.metrics import mean_absolute_error\n",
    "mae = mean_absolute_error(ytest,Predicted_data)\n",
    "print(mae)"
   ]
  },
  {
   "cell_type": "markdown",
   "id": "6465fa91",
   "metadata": {},
   "source": [
    "# Apply KNN Regressor"
   ]
  },
  {
   "cell_type": "code",
   "execution_count": 172,
   "id": "745c8889",
   "metadata": {},
   "outputs": [],
   "source": [
    "from sklearn.neighbors import KNeighborsRegressor"
   ]
  },
  {
   "cell_type": "code",
   "execution_count": 173,
   "id": "581926c6",
   "metadata": {},
   "outputs": [
    {
     "data": {
      "text/plain": [
       "KNeighborsRegressor()"
      ]
     },
     "execution_count": 173,
     "metadata": {},
     "output_type": "execute_result"
    }
   ],
   "source": [
    "KNNR = KNeighborsRegressor()\n",
    "KNNR.fit(xtrain,ytrain)"
   ]
  },
  {
   "cell_type": "code",
   "execution_count": 174,
   "id": "b3e4a2d4",
   "metadata": {},
   "outputs": [],
   "source": [
    "KNN_Predict = KNNR.predict(xtest)"
   ]
  },
  {
   "cell_type": "code",
   "execution_count": 175,
   "id": "073b56d2",
   "metadata": {},
   "outputs": [],
   "source": [
    "data[\"KNN_Predict\"] = KNNR.predict(x)"
   ]
  },
  {
   "cell_type": "code",
   "execution_count": 176,
   "id": "bc9b4e6c",
   "metadata": {},
   "outputs": [
    {
     "data": {
      "text/html": [
       "<div>\n",
       "<style scoped>\n",
       "    .dataframe tbody tr th:only-of-type {\n",
       "        vertical-align: middle;\n",
       "    }\n",
       "\n",
       "    .dataframe tbody tr th {\n",
       "        vertical-align: top;\n",
       "    }\n",
       "\n",
       "    .dataframe thead th {\n",
       "        text-align: right;\n",
       "    }\n",
       "</style>\n",
       "<table border=\"1\" class=\"dataframe\">\n",
       "  <thead>\n",
       "    <tr style=\"text-align: right;\">\n",
       "      <th></th>\n",
       "      <th>Gender</th>\n",
       "      <th>Height</th>\n",
       "      <th>Weight</th>\n",
       "      <th>Predicted_data</th>\n",
       "      <th>KNN_Predict</th>\n",
       "    </tr>\n",
       "  </thead>\n",
       "  <tbody>\n",
       "    <tr>\n",
       "      <th>0</th>\n",
       "      <td>1</td>\n",
       "      <td>73.847017</td>\n",
       "      <td>241.893563</td>\n",
       "      <td>215.574352</td>\n",
       "      <td>222.249723</td>\n",
       "    </tr>\n",
       "    <tr>\n",
       "      <th>1</th>\n",
       "      <td>1</td>\n",
       "      <td>68.781904</td>\n",
       "      <td>162.310473</td>\n",
       "      <td>185.341329</td>\n",
       "      <td>181.243871</td>\n",
       "    </tr>\n",
       "    <tr>\n",
       "      <th>2</th>\n",
       "      <td>1</td>\n",
       "      <td>74.110105</td>\n",
       "      <td>212.740856</td>\n",
       "      <td>217.144694</td>\n",
       "      <td>220.883791</td>\n",
       "    </tr>\n",
       "    <tr>\n",
       "      <th>3</th>\n",
       "      <td>1</td>\n",
       "      <td>71.730978</td>\n",
       "      <td>220.042470</td>\n",
       "      <td>202.943984</td>\n",
       "      <td>199.347460</td>\n",
       "    </tr>\n",
       "    <tr>\n",
       "      <th>4</th>\n",
       "      <td>1</td>\n",
       "      <td>69.881796</td>\n",
       "      <td>206.349801</td>\n",
       "      <td>191.906445</td>\n",
       "      <td>193.719655</td>\n",
       "    </tr>\n",
       "  </tbody>\n",
       "</table>\n",
       "</div>"
      ],
      "text/plain": [
       "   Gender     Height      Weight  Predicted_data  KNN_Predict\n",
       "0       1  73.847017  241.893563      215.574352   222.249723\n",
       "1       1  68.781904  162.310473      185.341329   181.243871\n",
       "2       1  74.110105  212.740856      217.144694   220.883791\n",
       "3       1  71.730978  220.042470      202.943984   199.347460\n",
       "4       1  69.881796  206.349801      191.906445   193.719655"
      ]
     },
     "execution_count": 176,
     "metadata": {},
     "output_type": "execute_result"
    }
   ],
   "source": [
    "data.head()"
   ]
  },
  {
   "cell_type": "markdown",
   "id": "d8fb8f39",
   "metadata": {},
   "source": [
    "# Evaluate Model"
   ]
  },
  {
   "cell_type": "code",
   "execution_count": 177,
   "id": "de6b952a",
   "metadata": {},
   "outputs": [
    {
     "data": {
      "text/plain": [
       "0.8838502073708883"
      ]
     },
     "execution_count": 177,
     "metadata": {},
     "output_type": "execute_result"
    }
   ],
   "source": [
    "#Accuracy\n",
    "KNNR.score(xtest,ytest)"
   ]
  },
  {
   "cell_type": "code",
   "execution_count": 178,
   "id": "1dddaf97",
   "metadata": {},
   "outputs": [
    {
     "name": "stdout",
     "output_type": "stream",
     "text": [
      "123.15365863436983\n"
     ]
    }
   ],
   "source": [
    "#MSE\n",
    "mse = mean_squared_error(ytest,KNN_Predict)\n",
    "print(mse)"
   ]
  },
  {
   "cell_type": "code",
   "execution_count": 179,
   "id": "f6001205",
   "metadata": {},
   "outputs": [
    {
     "name": "stdout",
     "output_type": "stream",
     "text": [
      "8.850747809837165\n"
     ]
    }
   ],
   "source": [
    "#MAE\n",
    "mae = mean_absolute_error(ytest,KNN_Predict)\n",
    "print(mae)"
   ]
  },
  {
   "cell_type": "markdown",
   "id": "f3b39e8d",
   "metadata": {},
   "source": [
    "# I think LinearRegrassion Model is Best"
   ]
  },
  {
   "cell_type": "markdown",
   "id": "0c1d8602",
   "metadata": {},
   "source": [
    "# Import data set"
   ]
  },
  {
   "cell_type": "code",
   "execution_count": 180,
   "id": "d4601696",
   "metadata": {},
   "outputs": [],
   "source": [
    "data2 = pd.read_csv(\"weight-height.csv\")"
   ]
  },
  {
   "cell_type": "code",
   "execution_count": 181,
   "id": "cb0af3ed",
   "metadata": {},
   "outputs": [
    {
     "data": {
      "text/html": [
       "<div>\n",
       "<style scoped>\n",
       "    .dataframe tbody tr th:only-of-type {\n",
       "        vertical-align: middle;\n",
       "    }\n",
       "\n",
       "    .dataframe tbody tr th {\n",
       "        vertical-align: top;\n",
       "    }\n",
       "\n",
       "    .dataframe thead th {\n",
       "        text-align: right;\n",
       "    }\n",
       "</style>\n",
       "<table border=\"1\" class=\"dataframe\">\n",
       "  <thead>\n",
       "    <tr style=\"text-align: right;\">\n",
       "      <th></th>\n",
       "      <th>Gender</th>\n",
       "      <th>Height</th>\n",
       "      <th>Weight</th>\n",
       "    </tr>\n",
       "  </thead>\n",
       "  <tbody>\n",
       "    <tr>\n",
       "      <th>0</th>\n",
       "      <td>Male</td>\n",
       "      <td>73.847017</td>\n",
       "      <td>241.893563</td>\n",
       "    </tr>\n",
       "    <tr>\n",
       "      <th>1</th>\n",
       "      <td>Male</td>\n",
       "      <td>68.781904</td>\n",
       "      <td>162.310473</td>\n",
       "    </tr>\n",
       "    <tr>\n",
       "      <th>2</th>\n",
       "      <td>Male</td>\n",
       "      <td>74.110105</td>\n",
       "      <td>212.740856</td>\n",
       "    </tr>\n",
       "    <tr>\n",
       "      <th>3</th>\n",
       "      <td>Male</td>\n",
       "      <td>71.730978</td>\n",
       "      <td>220.042470</td>\n",
       "    </tr>\n",
       "    <tr>\n",
       "      <th>4</th>\n",
       "      <td>Male</td>\n",
       "      <td>69.881796</td>\n",
       "      <td>206.349801</td>\n",
       "    </tr>\n",
       "  </tbody>\n",
       "</table>\n",
       "</div>"
      ],
      "text/plain": [
       "  Gender     Height      Weight\n",
       "0   Male  73.847017  241.893563\n",
       "1   Male  68.781904  162.310473\n",
       "2   Male  74.110105  212.740856\n",
       "3   Male  71.730978  220.042470\n",
       "4   Male  69.881796  206.349801"
      ]
     },
     "execution_count": 181,
     "metadata": {},
     "output_type": "execute_result"
    }
   ],
   "source": [
    "data2.head()"
   ]
  },
  {
   "cell_type": "markdown",
   "id": "f16a67da",
   "metadata": {},
   "source": [
    "# Encoding \"Gender\" Label "
   ]
  },
  {
   "cell_type": "code",
   "execution_count": 182,
   "id": "5839deb7",
   "metadata": {},
   "outputs": [
    {
     "data": {
      "text/html": [
       "<div>\n",
       "<style scoped>\n",
       "    .dataframe tbody tr th:only-of-type {\n",
       "        vertical-align: middle;\n",
       "    }\n",
       "\n",
       "    .dataframe tbody tr th {\n",
       "        vertical-align: top;\n",
       "    }\n",
       "\n",
       "    .dataframe thead th {\n",
       "        text-align: right;\n",
       "    }\n",
       "</style>\n",
       "<table border=\"1\" class=\"dataframe\">\n",
       "  <thead>\n",
       "    <tr style=\"text-align: right;\">\n",
       "      <th></th>\n",
       "      <th>Gender</th>\n",
       "      <th>Height</th>\n",
       "      <th>Weight</th>\n",
       "    </tr>\n",
       "  </thead>\n",
       "  <tbody>\n",
       "    <tr>\n",
       "      <th>0</th>\n",
       "      <td>1</td>\n",
       "      <td>73.847017</td>\n",
       "      <td>241.893563</td>\n",
       "    </tr>\n",
       "    <tr>\n",
       "      <th>1</th>\n",
       "      <td>1</td>\n",
       "      <td>68.781904</td>\n",
       "      <td>162.310473</td>\n",
       "    </tr>\n",
       "    <tr>\n",
       "      <th>2</th>\n",
       "      <td>1</td>\n",
       "      <td>74.110105</td>\n",
       "      <td>212.740856</td>\n",
       "    </tr>\n",
       "    <tr>\n",
       "      <th>3</th>\n",
       "      <td>1</td>\n",
       "      <td>71.730978</td>\n",
       "      <td>220.042470</td>\n",
       "    </tr>\n",
       "    <tr>\n",
       "      <th>4</th>\n",
       "      <td>1</td>\n",
       "      <td>69.881796</td>\n",
       "      <td>206.349801</td>\n",
       "    </tr>\n",
       "  </tbody>\n",
       "</table>\n",
       "</div>"
      ],
      "text/plain": [
       "   Gender     Height      Weight\n",
       "0       1  73.847017  241.893563\n",
       "1       1  68.781904  162.310473\n",
       "2       1  74.110105  212.740856\n",
       "3       1  71.730978  220.042470\n",
       "4       1  69.881796  206.349801"
      ]
     },
     "execution_count": 182,
     "metadata": {},
     "output_type": "execute_result"
    }
   ],
   "source": [
    "data2[\"Gender\"] = label_encoding.fit_transform(data2[\"Gender\"])\n",
    "data2.head()"
   ]
  },
  {
   "cell_type": "markdown",
   "id": "e0a665de",
   "metadata": {},
   "source": [
    "# Seperate x and y"
   ]
  },
  {
   "cell_type": "code",
   "execution_count": 183,
   "id": "6e622066",
   "metadata": {},
   "outputs": [],
   "source": [
    "x = data2.drop(\"Gender\", axis = 1 )\n",
    "y = data2[\"Gender\"]"
   ]
  },
  {
   "cell_type": "markdown",
   "id": "ce4be2a1",
   "metadata": {},
   "source": [
    "# Traing Data"
   ]
  },
  {
   "cell_type": "code",
   "execution_count": 184,
   "id": "3a408b7f",
   "metadata": {},
   "outputs": [],
   "source": [
    "xtrain , xtest , ytrain, ytest = tts(x,y, test_size = .30 , random_state = 1 )"
   ]
  },
  {
   "cell_type": "markdown",
   "id": "a773f407",
   "metadata": {},
   "source": [
    "# Apply Decision Tree Classifier"
   ]
  },
  {
   "cell_type": "code",
   "execution_count": 185,
   "id": "b6869e9e",
   "metadata": {},
   "outputs": [],
   "source": [
    "from sklearn.tree import DecisionTreeClassifier"
   ]
  },
  {
   "cell_type": "code",
   "execution_count": 186,
   "id": "72647b81",
   "metadata": {},
   "outputs": [
    {
     "name": "stdout",
     "output_type": "stream",
     "text": [
      "[1 1 1 ... 0 1 1]\n"
     ]
    }
   ],
   "source": [
    "dts = DecisionTreeClassifier()\n",
    "dts.fit(xtrain,ytrain)\n",
    "dts_predict = dts.predict(xtest)\n",
    "print(dts_predict)"
   ]
  },
  {
   "cell_type": "code",
   "execution_count": 187,
   "id": "6dcd90f2",
   "metadata": {},
   "outputs": [
    {
     "data": {
      "text/plain": [
       "array([0, 1, 1, ..., 0, 1, 1])"
      ]
     },
     "execution_count": 187,
     "metadata": {},
     "output_type": "execute_result"
    }
   ],
   "source": [
    "import numpy as np\n",
    "np.array(ytest)"
   ]
  },
  {
   "cell_type": "code",
   "execution_count": 188,
   "id": "f20323cd",
   "metadata": {},
   "outputs": [
    {
     "name": "stdout",
     "output_type": "stream",
     "text": [
      "   Gender     Height      Weight  dts_predict\n",
      "0       1  73.847017  241.893563            1\n",
      "1       1  68.781904  162.310473            1\n",
      "2       1  74.110105  212.740856            1\n",
      "3       1  71.730978  220.042470            1\n",
      "4       1  69.881796  206.349801            1\n"
     ]
    }
   ],
   "source": [
    "data2[\"dts_predict\"] = dts.predict(x)\n",
    "print(data2.head())"
   ]
  },
  {
   "cell_type": "markdown",
   "id": "40965f9b",
   "metadata": {},
   "source": [
    "# Evaluate Model"
   ]
  },
  {
   "cell_type": "code",
   "execution_count": 189,
   "id": "8b64ab23",
   "metadata": {},
   "outputs": [],
   "source": [
    "from sklearn.metrics import classification_report , accuracy_score , confusion_matrix , plot_roc_curve"
   ]
  },
  {
   "cell_type": "code",
   "execution_count": 190,
   "id": "3495ccf1",
   "metadata": {},
   "outputs": [
    {
     "name": "stdout",
     "output_type": "stream",
     "text": [
      "              precision    recall  f1-score   support\n",
      "\n",
      "           0       0.87      0.84      0.86      1055\n",
      "           1       0.89      0.91      0.90      1512\n",
      "\n",
      "    accuracy                           0.88      2567\n",
      "   macro avg       0.88      0.88      0.88      2567\n",
      "weighted avg       0.88      0.88      0.88      2567\n",
      "\n"
     ]
    }
   ],
   "source": [
    "cr = classification_report(ytest,dts_predict)\n",
    "print(cr)"
   ]
  },
  {
   "cell_type": "code",
   "execution_count": 191,
   "id": "7b2cee57",
   "metadata": {},
   "outputs": [
    {
     "name": "stdout",
     "output_type": "stream",
     "text": [
      "[[ 888  167]\n",
      " [ 134 1378]]\n"
     ]
    }
   ],
   "source": [
    "cm = confusion_matrix(ytest,dts_predict)\n",
    "print(cm)"
   ]
  },
  {
   "cell_type": "code",
   "execution_count": 192,
   "id": "e7f56d28",
   "metadata": {},
   "outputs": [
    {
     "name": "stdout",
     "output_type": "stream",
     "text": [
      "0.8827425009738995\n"
     ]
    }
   ],
   "source": [
    "As = accuracy_score(ytest,dts_predict)\n",
    "print(As)"
   ]
  },
  {
   "cell_type": "code",
   "execution_count": 193,
   "id": "6be5070e",
   "metadata": {},
   "outputs": [
    {
     "data": {
      "text/plain": [
       "Text(33.0, 0.5, 'Predicted Values')"
      ]
     },
     "execution_count": 193,
     "metadata": {},
     "output_type": "execute_result"
    },
    {
     "data": {
      "image/png": "[encoded data removed]",
      "text/plain": [
       "<Figure size 432x288 with 2 Axes>"
      ]
     },
     "metadata": {
      "needs_background": "light"
     },
     "output_type": "display_data"
    }
   ],
   "source": [
    "import seaborn as sns\n",
    "import matplotlib.pyplot as plt\n",
    "sns.heatmap(cm,annot = True)\n",
    "plt.xlabel(\"Acutal Values\")\n",
    "plt.ylabel(\"Predicted Values\")"
   ]
  },
  {
   "cell_type": "code",
   "execution_count": 194,
   "id": "0f691d4e",
   "metadata": {},
   "outputs": [],
   "source": [
    "tp , fn, fp ,tn = confusion_matrix(ytest,dts_predict).reshape(-1)"
   ]
  },
  {
   "cell_type": "markdown",
   "id": "7c2967b9",
   "metadata": {},
   "source": [
    "# Accuracy"
   ]
  },
  {
   "cell_type": "code",
   "execution_count": 195,
   "id": "42fc5b8b",
   "metadata": {},
   "outputs": [
    {
     "name": "stdout",
     "output_type": "stream",
     "text": [
      "0.8827425009738995\n",
      "True\n"
     ]
    }
   ],
   "source": [
    "accuracy = (tp+tn)/(tp+fn+fp+tn)\n",
    "print(accuracy)\n",
    "\n",
    "if As == accuracy:\n",
    "    print(\"True\")\n",
    "else:\n",
    "    print(\"Flase\")"
   ]
  },
  {
   "cell_type": "markdown",
   "id": "defe73f1",
   "metadata": {},
   "source": [
    "# Precision Of Positive Predictive Value as PPPV "
   ]
  },
  {
   "cell_type": "code",
   "execution_count": 196,
   "id": "1b1d416a",
   "metadata": {},
   "outputs": [
    {
     "name": "stdout",
     "output_type": "stream",
     "text": [
      "0.8688845401174168\n"
     ]
    }
   ],
   "source": [
    "ppv = tp/(tp+fp)\n",
    "print(ppv)"
   ]
  },
  {
   "cell_type": "markdown",
   "id": "b6ebb064",
   "metadata": {},
   "source": [
    "# Sensitivity, Recall Hit Rate as TRP "
   ]
  },
  {
   "cell_type": "code",
   "execution_count": 197,
   "id": "08234cd8",
   "metadata": {},
   "outputs": [
    {
     "name": "stdout",
     "output_type": "stream",
     "text": [
      "0.8417061611374408\n"
     ]
    }
   ],
   "source": [
    "trp = tp/(tp+fn)\n",
    "print(trp)"
   ]
  },
  {
   "cell_type": "markdown",
   "id": "86e49ac6",
   "metadata": {},
   "source": [
    "# Flase Positive Rate or 1-Specificity "
   ]
  },
  {
   "cell_type": "code",
   "execution_count": 198,
   "id": "c8962a10",
   "metadata": {},
   "outputs": [
    {
     "name": "stdout",
     "output_type": "stream",
     "text": [
      "0.08862433862433862\n"
     ]
    }
   ],
   "source": [
    "fpr = fp/(fp+tn)\n",
    "print(fpr)"
   ]
  },
  {
   "cell_type": "markdown",
   "id": "1a9b8fc6",
   "metadata": {},
   "source": [
    "# F1 Score"
   ]
  },
  {
   "cell_type": "code",
   "execution_count": 199,
   "id": "d7b222a2",
   "metadata": {},
   "outputs": [
    {
     "name": "stdout",
     "output_type": "stream",
     "text": [
      "0.4275397207510833\n"
     ]
    }
   ],
   "source": [
    "f1_score = (ppv*trp)/(ppv+trp)\n",
    "print(f1_score)"
   ]
  },
  {
   "cell_type": "markdown",
   "id": "9e100a1b",
   "metadata": {},
   "source": [
    "# Specificity or Selectivity "
   ]
  },
  {
   "cell_type": "code",
   "execution_count": 200,
   "id": "9d66a569",
   "metadata": {},
   "outputs": [
    {
     "name": "stdout",
     "output_type": "stream",
     "text": [
      "0.9113756613756614\n"
     ]
    }
   ],
   "source": [
    "trn = tn/(tn+fp)\n",
    "print(trn)"
   ]
  },
  {
   "cell_type": "markdown",
   "id": "146db04a",
   "metadata": {},
   "source": [
    "# Treat Score , Critical Success or Index(CSI) "
   ]
  },
  {
   "cell_type": "code",
   "execution_count": 201,
   "id": "ec7af873",
   "metadata": {},
   "outputs": [
    {
     "name": "stdout",
     "output_type": "stream",
     "text": [
      "0.7468460891505467\n"
     ]
    }
   ],
   "source": [
    "csi = tp/(tp+fn+fp)\n",
    "print(csi)"
   ]
  },
  {
   "cell_type": "markdown",
   "id": "55e0a1d0",
   "metadata": {},
   "source": [
    "# False Discovery Rate "
   ]
  },
  {
   "cell_type": "code",
   "execution_count": 202,
   "id": "345755f2",
   "metadata": {},
   "outputs": [
    {
     "name": "stdout",
     "output_type": "stream",
     "text": [
      "0.13111545988258316\n"
     ]
    }
   ],
   "source": [
    "fdr = fp/(tp+fp)\n",
    "print(fdr)"
   ]
  },
  {
   "cell_type": "markdown",
   "id": "3e445c79",
   "metadata": {},
   "source": [
    "# ROC and AUC Curve"
   ]
  },
  {
   "cell_type": "code",
   "execution_count": 203,
   "id": "97089c2e",
   "metadata": {},
   "outputs": [
    {
     "data": {
      "text/plain": [
       "[<matplotlib.lines.Line2D at 0x1ca2d9e63a0>]"
      ]
     },
     "execution_count": 203,
     "metadata": {},
     "output_type": "execute_result"
    },
    {
     "data": {
      "image/png": "[encoded data removed]",
      "text/plain": [
       "<Figure size 432x288 with 1 Axes>"
      ]
     },
     "metadata": {
      "needs_background": "light"
     },
     "output_type": "display_data"
    }
   ],
   "source": [
    "plot_roc_curve(dts,xtest,ytest)\n",
    "plt.plot([0,1],[0,1])"
   ]
  },
  {
   "cell_type": "markdown",
   "id": "7c3c32fe",
   "metadata": {},
   "source": [
    "# AUC = 0.87"
   ]
  },
  {
   "cell_type": "markdown",
   "id": "15c4a844",
   "metadata": {},
   "source": [
    "# Apply KNN Classifier"
   ]
  },
  {
   "cell_type": "code",
   "execution_count": 204,
   "id": "0c7465c9",
   "metadata": {},
   "outputs": [],
   "source": [
    "from sklearn.neighbors import KNeighborsClassifier"
   ]
  },
  {
   "cell_type": "code",
   "execution_count": 205,
   "id": "dc1f96eb",
   "metadata": {},
   "outputs": [
    {
     "name": "stdout",
     "output_type": "stream",
     "text": [
      "[1 1 1 ... 0 1 1]\n"
     ]
    }
   ],
   "source": [
    "KNC = KNeighborsClassifier()\n",
    "KNC.fit(xtrain,ytrain)\n",
    "KNC_Predict = KNC.predict(xtest)\n",
    "print(KNC_Predict)"
   ]
  },
  {
   "cell_type": "code",
   "execution_count": 206,
   "id": "79ddfd8a",
   "metadata": {},
   "outputs": [
    {
     "name": "stdout",
     "output_type": "stream",
     "text": [
      "   Gender     Height      Weight  dts_predict  KNC_Predict\n",
      "0       1  73.847017  241.893563            1            1\n",
      "1       1  68.781904  162.310473            1            1\n",
      "2       1  74.110105  212.740856            1            1\n",
      "3       1  71.730978  220.042470            1            1\n",
      "4       1  69.881796  206.349801            1            1\n"
     ]
    }
   ],
   "source": [
    "data2[\"KNC_Predict\"] = KNC.predict(x)\n",
    "print(data2.head())"
   ]
  },
  {
   "cell_type": "markdown",
   "id": "7b2260c4",
   "metadata": {},
   "source": [
    "# Evaluate Model"
   ]
  },
  {
   "cell_type": "code",
   "execution_count": 207,
   "id": "64c8bf7e",
   "metadata": {},
   "outputs": [
    {
     "name": "stdout",
     "output_type": "stream",
     "text": [
      "              precision    recall  f1-score   support\n",
      "\n",
      "           0       0.90      0.89      0.90      1055\n",
      "           1       0.92      0.93      0.93      1512\n",
      "\n",
      "    accuracy                           0.91      2567\n",
      "   macro avg       0.91      0.91      0.91      2567\n",
      "weighted avg       0.91      0.91      0.91      2567\n",
      "\n"
     ]
    }
   ],
   "source": [
    "cr = classification_report(ytest,KNC_Predict)\n",
    "print(cr)"
   ]
  },
  {
   "cell_type": "code",
   "execution_count": 208,
   "id": "ed89a81d",
   "metadata": {},
   "outputs": [
    {
     "name": "stdout",
     "output_type": "stream",
     "text": [
      "[[ 938  117]\n",
      " [ 102 1410]]\n"
     ]
    },
    {
     "data": {
      "text/plain": [
       "Text(33.0, 0.5, 'Predicted Values')"
      ]
     },
     "execution_count": 208,
     "metadata": {},
     "output_type": "execute_result"
    },
    {
     "data": {
      "image/png": "[encoded data removed]",
      "text/plain": [
       "<Figure size 432x288 with 2 Axes>"
      ]
     },
     "metadata": {
      "needs_background": "light"
     },
     "output_type": "display_data"
    }
   ],
   "source": [
    "cm = confusion_matrix(ytest,KNC_Predict)\n",
    "print(cm)\n",
    "\n",
    "sns.heatmap(cm,annot = True)\n",
    "plt.xlabel(\"Actual Values\")\n",
    "plt.ylabel(\"Predicted Values\")"
   ]
  },
  {
   "cell_type": "markdown",
   "id": "baf53820",
   "metadata": {},
   "source": [
    "# Accuracy score ans Accuracy"
   ]
  },
  {
   "cell_type": "code",
   "execution_count": 210,
   "id": "a90d3f3b",
   "metadata": {},
   "outputs": [
    {
     "name": "stdout",
     "output_type": "stream",
     "text": [
      "0.9146864043630697\n",
      "0.9146864043630697\n"
     ]
    }
   ],
   "source": [
    "tp , fn, fp ,tn = confusion_matrix(ytest,KNC_Predict).reshape(-1)\n",
    "\n",
    "As2 = accuracy_score(ytest,KNC_Predict)\n",
    "print(As2)\n",
    "\n",
    "accuracy2 = (tp+tn)/(tp+fn+fp+tn)\n",
    "print(accuracy2)"
   ]
  },
  {
   "cell_type": "code",
   "execution_count": 212,
   "id": "b2cecd27",
   "metadata": {},
   "outputs": [
    {
     "data": {
      "text/plain": [
       "[<matplotlib.lines.Line2D at 0x1ca2da83d60>]"
      ]
     },
     "execution_count": 212,
     "metadata": {},
     "output_type": "execute_result"
    },
    {
     "data": {
      "image/png": "[encoded data removed]",
      "text/plain": [
       "<Figure size 432x288 with 1 Axes>"
      ]
     },
     "metadata": {
      "needs_background": "light"
     },
     "output_type": "display_data"
    }
   ],
   "source": [
    "plot_roc_curve(KNC,xtest,ytest)\n",
    "plt.plot([0,1],[0,1])\n"
   ]
  },
  {
   "cell_type": "markdown",
   "id": "06739d16",
   "metadata": {},
   "source": [
    "# AUC = 0.96"
   ]
  },
  {
   "cell_type": "markdown",
   "id": "de71bc3a",
   "metadata": {},
   "source": [
    "# Precision "
   ]
  },
  {
   "cell_type": "code",
   "execution_count": 214,
   "id": "f18d37f4",
   "metadata": {},
   "outputs": [
    {
     "name": "stdout",
     "output_type": "stream",
     "text": [
      "0.9019230769230769\n"
     ]
    }
   ],
   "source": [
    "ppv2 = tp/(tp+fp)\n",
    "print(ppv2)"
   ]
  },
  {
   "cell_type": "markdown",
   "id": "7aae49e6",
   "metadata": {},
   "source": [
    "# Sensitivity , Recall , Hit Rate"
   ]
  },
  {
   "cell_type": "code",
   "execution_count": 216,
   "id": "3afb4875",
   "metadata": {},
   "outputs": [
    {
     "name": "stdout",
     "output_type": "stream",
     "text": [
      "0.8890995260663507\n"
     ]
    }
   ],
   "source": [
    "trp2 = tp/(tp+fn)\n",
    "print(trp2)"
   ]
  },
  {
   "cell_type": "markdown",
   "id": "e8e2b634",
   "metadata": {},
   "source": [
    "\n",
    "# False Positive Rate or 1-Specificity"
   ]
  },
  {
   "cell_type": "code",
   "execution_count": 217,
   "id": "e092aa18",
   "metadata": {},
   "outputs": [
    {
     "name": "stdout",
     "output_type": "stream",
     "text": [
      "0.06746031746031746\n"
     ]
    }
   ],
   "source": [
    "fpr2 = fp/(fp+tn)\n",
    "print(fpr2)"
   ]
  },
  {
   "cell_type": "markdown",
   "id": "1cf4a405",
   "metadata": {},
   "source": [
    "# F-1 Measure"
   ]
  },
  {
   "cell_type": "code",
   "execution_count": 218,
   "id": "234264a8",
   "metadata": {},
   "outputs": [
    {
     "name": "stdout",
     "output_type": "stream",
     "text": [
      "0.8955113014947138\n"
     ]
    }
   ],
   "source": [
    "F_1_Measure = (ppv2+trp2)/2\n",
    "print(F_1_Measure)"
   ]
  },
  {
   "cell_type": "markdown",
   "id": "029e376b",
   "metadata": {},
   "source": [
    "# F1 Score "
   ]
  },
  {
   "cell_type": "code",
   "execution_count": 219,
   "id": "d21e4b92",
   "metadata": {},
   "outputs": [
    {
     "name": "stdout",
     "output_type": "stream",
     "text": [
      "0.8954653937947494\n"
     ]
    }
   ],
   "source": [
    "f1_score = (2*ppv2*trp2)/(ppv2+trp2)\n",
    "print(f1_score)"
   ]
  },
  {
   "cell_type": "markdown",
   "id": "99c5a0d2",
   "metadata": {},
   "source": [
    "# Specificity , Selectivity "
   ]
  },
  {
   "cell_type": "code",
   "execution_count": 221,
   "id": "edc858d4",
   "metadata": {},
   "outputs": [
    {
     "name": "stdout",
     "output_type": "stream",
     "text": [
      "0.9325396825396826\n"
     ]
    }
   ],
   "source": [
    "ss = tn/(tn+fp)\n",
    "print(ss)"
   ]
  },
  {
   "cell_type": "markdown",
   "id": "d0a968f7",
   "metadata": {},
   "source": [
    "# Threat Score , Critical Success , Index(CSI)"
   ]
  },
  {
   "cell_type": "code",
   "execution_count": 223,
   "id": "b860137d",
   "metadata": {},
   "outputs": [
    {
     "name": "stdout",
     "output_type": "stream",
     "text": [
      "0.8107173725151253\n"
     ]
    }
   ],
   "source": [
    "CSI = tp/(tp+fn+fp)\n",
    "print(CSI)"
   ]
  },
  {
   "cell_type": "markdown",
   "id": "b466ab14",
   "metadata": {},
   "source": [
    "# False Discovery Rate "
   ]
  },
  {
   "cell_type": "code",
   "execution_count": 224,
   "id": "63310311",
   "metadata": {},
   "outputs": [
    {
     "name": "stdout",
     "output_type": "stream",
     "text": [
      "0.09807692307692308\n"
     ]
    }
   ],
   "source": [
    "FDR = fp/(tp+fp)\n",
    "print(FDR)"
   ]
  },
  {
   "cell_type": "markdown",
   "id": "04f737fc",
   "metadata": {},
   "source": [
    "# I think KNN Classifier Model is best"
   ]
  },
  {
   "cell_type": "code",
   "execution_count": null,
   "id": "1657c42e",
   "metadata": {},
   "outputs": [],
   "source": []
  }
 ],
 "metadata": {
  "kernelspec": {
   "display_name": "Python 3 (ipykernel)",
   "language": "python",
   "name": "python3"
  },
  "language_info": {
   "codemirror_mode": {
    "name": "ipython",
    "version": 3
   },
   "file_extension": ".py",
   "mimetype": "text/x-python",
   "name": "python",
   "nbconvert_exporter": "python",
   "pygments_lexer": "ipython3",
   "version": "3.9.7"
  }
 },
 "nbformat": 4,
 "nbformat_minor": 5
}
